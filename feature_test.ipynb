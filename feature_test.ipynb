{
 "cells": [
  {
   "cell_type": "code",
   "execution_count": 1,
   "metadata": {},
   "outputs": [
    {
     "name": "stdout",
     "output_type": "stream",
     "text": [
      "Importing all assets from base.py...\n",
      "Imported modules   : numpy, matplotlib.pyplot\n",
      "Imported functions : npy, axes_off, get_var_name, shapes, tqdm, plot_history, minmax, values\n"
     ]
    }
   ],
   "source": [
    "import torch\n",
    "import torch.nn as nn\n",
    "import numpy as np\n",
    "\n",
    "import matplotlib.pyplot as plt\n",
    "from collections import Counter\n",
    "\n",
    "from base import *"
   ]
  },
  {
   "cell_type": "markdown",
   "metadata": {},
   "source": [
    "# Testing different AE types (Linear and Convolutional)"
   ]
  },
  {
   "cell_type": "code",
   "execution_count": 2,
   "metadata": {},
   "outputs": [],
   "source": [
    "from src.models import GroupedModel, BaseAutoencoder"
   ]
  },
  {
   "cell_type": "markdown",
   "metadata": {},
   "source": [
    "## Linear AE"
   ]
  },
  {
   "cell_type": "code",
   "execution_count": 3,
   "metadata": {},
   "outputs": [
    {
     "name": "stdout",
     "output_type": "stream",
     "text": [
      "Expected: (64, 1), (64, 5)\n",
      "embed  : torch.Size([64, 1])\n",
      "out    : torch.Size([64, 5])\n",
      "\n",
      "Expected: (64, 2, 1), (64, 2, 5)\n",
      "embed  : torch.Size([64, 2, 1])\n",
      "out    : torch.Size([64, 2, 5])\n",
      "\n",
      "Expected: (64, 1), (64, 5)\n",
      "embed  : torch.Size([64, 1])\n",
      "out    : torch.Size([64, 5])\n"
     ]
    }
   ],
   "source": [
    "# sanity check: inputs of shape 5 (1d), Linear-AE follows 5->2->1->2->5 (1 = embed_dim)\n",
    "\n",
    "testconfig_linear = {\n",
    "    'enc_channels': (5,2,1),\n",
    "    'dec_channels': (1,2,5), \n",
    "    'bias': False, \n",
    "    'activations': nn.ReLU(),\n",
    "    'device': 'cuda'\n",
    "}\n",
    "\n",
    "test_n_clusters = 2\n",
    "test_batch_size = 64\n",
    "\n",
    "LinearAutoencoder = BaseAutoencoder.create_AE(layer_type=nn.Linear)\n",
    "\n",
    "ae = LinearAutoencoder(**testconfig_linear)\n",
    "gae = GroupedModel(test_n_clusters, LinearAutoencoder, **testconfig_linear)\n",
    "\n",
    "dummy_input = torch.randn(test_batch_size, 5)        \n",
    "dummy_true = torch.randn(test_batch_size, 5) \n",
    "dummy_centers = torch.randn(test_n_clusters, 5)\n",
    "\n",
    "print(f\"Expected: ({test_batch_size}, {ae.enc_channels[-1]}), ({test_batch_size}, 5)\")\n",
    "embed, out = ae(x=dummy_input, return_embed=True)\n",
    "shapes(embed, out)\n",
    "\n",
    "print(f\"\\nExpected: ({test_batch_size}, {test_n_clusters}, {ae.enc_channels[-1]}), ({test_batch_size}, {test_n_clusters}, 5)\")\n",
    "embed, out = gae.forward_with_centers(x=dummy_input, centers=dummy_centers, return_embed=True)\n",
    "shapes(embed, out)\n",
    "\n",
    "print(f\"\\nExpected: ({test_batch_size}, {ae.enc_channels[-1]}), ({test_batch_size}, 5)\")\n",
    "embed, out = gae.forward_with_clust(x=dummy_input, centers=dummy_centers, clust=0, return_embed=True)\n",
    "shapes(embed, out)"
   ]
  },
  {
   "cell_type": "markdown",
   "metadata": {},
   "source": [
    "## Convolutional AE"
   ]
  },
  {
   "cell_type": "code",
   "execution_count": 4,
   "metadata": {},
   "outputs": [
    {
     "name": "stdout",
     "output_type": "stream",
     "text": [
      "Expected: (64, 20, 32, 32), (64, 3, 32, 32)\n",
      "embed  : torch.Size([64, 20, 32, 32])\n",
      "out    : torch.Size([64, 3, 32, 32])\n",
      "\n",
      "Expected: (64, 2, 20, 32, 32), (64, 2, 3, 32, 32)\n",
      "embed  : torch.Size([64, 2, 20, 32, 32])\n",
      "out    : torch.Size([64, 2, 3, 32, 32])\n",
      "\n",
      "Expected: (64, 20, 32, 32), (64, 3, 32, 32)\n",
      "embed  : torch.Size([64, 20, 32, 32])\n",
      "out    : torch.Size([64, 3, 32, 32])\n"
     ]
    }
   ],
   "source": [
    "# sanity check: inputs of shape (3,32,32), CNN-AE follows 3->10->20->10->3 (channels)\n",
    "\n",
    "testconfig_conv = {\n",
    "    'enc_channels': (3,10,20),\n",
    "    'dec_channels': (20,10,3), \n",
    "    'kernel_size': 3, \n",
    "    'activations': nn.ReLU(),\n",
    "    'device': 'cuda',\n",
    "    'padding': 1\n",
    "}\n",
    "\n",
    "CNNAutoencoder = BaseAutoencoder.create_AE(layer_type=nn.Conv2d)\n",
    "\n",
    "ae = CNNAutoencoder(**testconfig_conv)\n",
    "gae = GroupedModel(test_n_clusters, CNNAutoencoder, **testconfig_conv)\n",
    "\n",
    "dummy_input_conv = torch.randn(test_batch_size,3,32,32)\n",
    "dummy_true_conv = torch.randn(test_batch_size,3,32,32) \n",
    "dummy_centers_conv = torch.randn(test_n_clusters,3,32,32)\n",
    "\n",
    "print(f\"Expected: ({test_batch_size}, {ae.enc_channels[-1]}, 32, 32), ({test_batch_size}, 3, 32, 32)\")\n",
    "embed, out = ae(x=dummy_input_conv, return_embed=True)\n",
    "shapes(embed, out)\n",
    "\n",
    "print(f\"\\nExpected: ({test_batch_size}, {test_n_clusters}, {ae.enc_channels[-1]}, 32, 32), ({test_batch_size}, {test_n_clusters}, 3, 32, 32)\")\n",
    "embed, out = gae.forward_with_centers(x=dummy_input_conv, centers=dummy_centers_conv, return_embed=True)\n",
    "shapes(embed, out)\n",
    "\n",
    "print(f\"\\nExpected: ({test_batch_size}, {ae.enc_channels[-1]}, 32, 32), ({test_batch_size}, 3, 32, 32)\")\n",
    "embed, out = gae.forward_with_clust(x=dummy_input_conv, centers=dummy_centers_conv, clust=0, return_embed=True)\n",
    "shapes(embed, out)"
   ]
  },
  {
   "cell_type": "markdown",
   "metadata": {},
   "source": [
    "# TAE Working test"
   ]
  },
  {
   "cell_type": "code",
   "execution_count": 5,
   "metadata": {},
   "outputs": [],
   "source": [
    "from src.tae import TensorizedAutoencoder, to_npy\n",
    "from src.train_utils import train_tae\n",
    "\n",
    "PBAR_NCOLS = 75"
   ]
  },
  {
   "cell_type": "code",
   "execution_count": 6,
   "metadata": {},
   "outputs": [
    {
     "name": "stdout",
     "output_type": "stream",
     "text": [
      "PHASE 1: Warmup — 10/50\n"
     ]
    },
    {
     "name": "stderr",
     "output_type": "stream",
     "text": [
      "Epoch: 10/10 |████████████████████████████████| [00:04<00:00, loss: 1.0054]\n"
     ]
    },
    {
     "name": "stdout",
     "output_type": "stream",
     "text": [
      "PHASE 2: Batched — 40/50\n"
     ]
    },
    {
     "name": "stderr",
     "output_type": "stream",
     "text": [
      "Epoch: 40/40 |████████████████████████| [00:00<00:00, loss: 0.8815, es: 10]\n",
      "Epoch: 22/40 |█████████████▏          | [00:00<00:00, loss: 1.1270, es: 10]\n"
     ]
    }
   ],
   "source": [
    "# train_tae working test for 1d data (N,5)\n",
    "\n",
    "ae = LinearAutoencoder(**testconfig_linear)\n",
    "gae = GroupedModel(test_n_clusters, LinearAutoencoder, **testconfig_linear)\n",
    "\n",
    "tae = TensorizedAutoencoder(gae, dummy_true)\n",
    "warmup, batched, clusts = train_tae(\n",
    "    tae, dummy_input, dummy_true, \n",
    "    50, 5e-3, 8, \n",
    "    warmup_optim=torch.optim.SGD, warmup=10, \n",
    "    verbose=1, grad_clip=1,\n",
    "    pbar_ncols=PBAR_NCOLS\n",
    ")"
   ]
  },
  {
   "cell_type": "code",
   "execution_count": 7,
   "metadata": {},
   "outputs": [
    {
     "name": "stdout",
     "output_type": "stream",
     "text": [
      "PHASE 1: Warmup — 10/50\n"
     ]
    },
    {
     "name": "stderr",
     "output_type": "stream",
     "text": [
      "Epoch: 10/10 |████████████████████████████████| [00:05<00:00, loss: 0.9979]\n"
     ]
    },
    {
     "name": "stdout",
     "output_type": "stream",
     "text": [
      "PHASE 2: Batched — 40/50\n"
     ]
    },
    {
     "name": "stderr",
     "output_type": "stream",
     "text": [
      "Epoch: 37/40 |██████████████████████▏ | [00:01<00:00, loss: 0.9960, es: 10]\n",
      "Epoch: 40/40 |█████████████████████████| [00:00<00:00, loss: 0.9609, es: 2]\n"
     ]
    }
   ],
   "source": [
    "# train_tae working test for image data (N,3,32,32)\n",
    "\n",
    "ae = CNNAutoencoder(**testconfig_conv)\n",
    "gae = GroupedModel(test_n_clusters, CNNAutoencoder, **testconfig_conv)\n",
    "\n",
    "tae = TensorizedAutoencoder(gae, dummy_true_conv)\n",
    "warmup, batched, clusts = train_tae(\n",
    "    tae, dummy_input_conv, dummy_true_conv, \n",
    "    50, 5e-3, 8, \n",
    "    warmup=0.2, warmup_optim=torch.optim.SGD, warmup_lr=5e-2, \n",
    "    verbose=1, grad_clip=0.5,\n",
    "    pbar_ncols=PBAR_NCOLS\n",
    ")"
   ]
  },
  {
   "cell_type": "markdown",
   "metadata": {},
   "source": [
    "# Testing TAE clustering performance on synthetic datasets"
   ]
  },
  {
   "cell_type": "code",
   "execution_count": 8,
   "metadata": {},
   "outputs": [],
   "source": [
    "from data.data import parallel_line, orthogonal, triangle, lines_3D\n",
    "from sklearn.metrics.cluster import adjusted_rand_score as ari\n",
    "from sklearn.metrics import mean_squared_error as mse\n",
    "from sklearn.cluster import KMeans\n",
    "from src.train_utils import GenericDataset, train_ae\n",
    "\n",
    "\n",
    "X, Y, X_noise, n_clusters = parallel_line(noise=0.1)\n",
    "randperm = torch.randperm(len(X))\n",
    "X, Y, X_noise = X[randperm].float(), Y[randperm].float(), X_noise[randperm].float()"
   ]
  },
  {
   "cell_type": "code",
   "execution_count": 9,
   "metadata": {},
   "outputs": [],
   "source": [
    "config = {\n",
    "    'enc_channels': (5,2),\n",
    "    'dec_channels': (2,5), \n",
    "    'bias': False, \n",
    "    'activations': None     # data is a set of points and is relatively simple, no activations needed\n",
    "}"
   ]
  },
  {
   "cell_type": "code",
   "execution_count": 10,
   "metadata": {},
   "outputs": [
    {
     "name": "stderr",
     "output_type": "stream",
     "text": [
      "Epoch: 50/50 |█████████████████████████| [00:00<00:00, loss: 0.0059, es: 1]\n"
     ]
    }
   ],
   "source": [
    "ae = LinearAutoencoder(**config)\n",
    "optimizer = torch.optim.Adam(ae.parameters(), 5e-3)\n",
    "dataloader = GenericDataset(X, X).get_dataloader(batch_size=8, shuffle=False)\n",
    "\n",
    "ae, losses = train_ae(ae, dataloader, optimizer, 50, pbar_ncols=PBAR_NCOLS, verbose=1)"
   ]
  },
  {
   "cell_type": "code",
   "execution_count": 11,
   "metadata": {},
   "outputs": [
    {
     "data": {
      "text/plain": [
       "0.2656431638917444"
      ]
     },
     "execution_count": 11,
     "metadata": {},
     "output_type": "execute_result"
    }
   ],
   "source": [
    "# ari after AE\n",
    "ari(KMeans(n_clusters).fit(to_npy(ae.enc(X.float()))).labels_,Y)"
   ]
  },
  {
   "cell_type": "code",
   "execution_count": 15,
   "metadata": {},
   "outputs": [
    {
     "name": "stdout",
     "output_type": "stream",
     "text": [
      "PHASE 1: Warmup — 20/50\n"
     ]
    },
    {
     "name": "stderr",
     "output_type": "stream",
     "text": [
      "Epoch: 20/20 |████████████████████████████████| [00:03<00:00, loss: 0.1619]\n"
     ]
    },
    {
     "name": "stdout",
     "output_type": "stream",
     "text": [
      "PHASE 2: Batched — 30/50\n"
     ]
    },
    {
     "name": "stderr",
     "output_type": "stream",
     "text": [
      "Epoch: 30/30 |█████████████████████████| [00:00<00:00, loss: 0.0080, es: 2]\n",
      "Epoch: 30/30 |█████████████████████████| [00:00<00:00, loss: 0.0074, es: 2]\n"
     ]
    }
   ],
   "source": [
    "gae = GroupedModel(n_clusters, LinearAutoencoder, **config)\n",
    "tae = TensorizedAutoencoder(gae, X)\n",
    "\n",
    "warmup_losses, losses, clusts = train_tae(\n",
    "    tae, X.float(), X.float(), \n",
    "    epochs=50, \n",
    "    lr=5e-3, batch_size=8, \n",
    "    warmup=0.4, warmup_optim=torch.optim.SGD, warmup_lr=5e-2, \n",
    "    verbose=1, grad_clip=1,\n",
    "    pbar_ncols=PBAR_NCOLS\n",
    ")"
   ]
  },
  {
   "cell_type": "code",
   "execution_count": 16,
   "metadata": {},
   "outputs": [
    {
     "data": {
      "text/plain": [
       "1.0"
      ]
     },
     "execution_count": 16,
     "metadata": {},
     "output_type": "execute_result"
    }
   ],
   "source": [
    "# ari after TAE\n",
    "ari(clusts, Y)"
   ]
  },
  {
   "cell_type": "markdown",
   "metadata": {},
   "source": [
    "# Working with reconstruction mse"
   ]
  },
  {
   "cell_type": "code",
   "execution_count": 17,
   "metadata": {},
   "outputs": [
    {
     "name": "stderr",
     "output_type": "stream",
     "text": [
      "Epoch: 50/50 |█████████████████████████| [00:00<00:00, loss: 0.0059, es: 0]\n"
     ]
    },
    {
     "name": "stdout",
     "output_type": "stream",
     "text": [
      "PHASE 1: Warmup — 15/150\n"
     ]
    },
    {
     "name": "stderr",
     "output_type": "stream",
     "text": [
      "Epoch: 15/15 |████████████████████████████████| [00:02<00:00, loss: 0.8673]\n"
     ]
    },
    {
     "name": "stdout",
     "output_type": "stream",
     "text": [
      "PHASE 2: Batched — 135/150\n"
     ]
    },
    {
     "name": "stderr",
     "output_type": "stream",
     "text": [
      "Epoch: 135/135 |███████████████████████| [00:00<00:00, loss: 0.0053, es: 1]\n",
      "Epoch: 69/135 |███████████▊           | [00:00<00:00, loss: 0.0060, es: 10]\n"
     ]
    },
    {
     "name": "stdout",
     "output_type": "stream",
     "text": [
      "TAE: 0.0088\n",
      "AE: 0.0058\n"
     ]
    }
   ],
   "source": [
    "num_runs = 1\n",
    "verbose = 1\n",
    "\n",
    "config = {\n",
    "    'enc_channels': (5,2),\n",
    "    'dec_channels': (2,5), \n",
    "    'bias': False, \n",
    "    'activations': None\n",
    "}\n",
    "\n",
    "lae, ltae, lkm = [], [], []\n",
    "for run in tqdm(range(num_runs), disable=verbose):\n",
    "    # kmeans_ari = ari(KMeans(n_clusters).fit(to_npy(X)).labels_,Y)\n",
    "    \n",
    "    ae = LinearAutoencoder(**config)\n",
    "    optimizer = torch.optim.Adam(ae.parameters(), 5e-3)\n",
    "    dataloader = GenericDataset(X, X).get_dataloader(batch_size=8, shuffle=False)\n",
    "\n",
    "    ae, ae_losses = train_ae(ae, dataloader, optimizer, 50, pbar_ncols=PBAR_NCOLS, verbose=verbose)\n",
    "    # ae_ari = ari(KMeans(n_clusters).fit(to_npy(ae.enc(X.float()))).labels_,Y)\n",
    "\n",
    "    ae_mse = mse(to_npy(ae(X)), X)\n",
    "\n",
    "    gae = GroupedModel(n_clusters, LinearAutoencoder, **config)\n",
    "    tae = TensorizedAutoencoder(gae, X, regularizer_coef=0.1)\n",
    "\n",
    "    warmup_losses, tae_losses, clusts = train_tae(\n",
    "        tae, X.float(), X.float(), \n",
    "        150, lr=5e-3, batch_size=16, \n",
    "        warmup=15, warmup_optim=torch.optim.SGD, warmup_lr=5e-2, \n",
    "        verbose=verbose, grad_clip=0.5, \n",
    "        pbar_ncols=PBAR_NCOLS\n",
    "    )\n",
    "    # tae_ari = ari(clusts, Y)\n",
    "\n",
    "    tae_mse = np.zeros(X.shape)\n",
    "    for i in range(len(X)):\n",
    "        tae_mse[i] = to_npy(tae.forward_with_clust(X[i:i+1], clusts[i:i+1]) + tae.centers[clusts[i]])\n",
    "\n",
    "    tae_mse = mse(tae_mse, X)\n",
    "\n",
    "    lae.append(ae_mse); ltae.append(tae_mse)\n",
    "\n",
    "print(f\"TAE: {np.mean(ltae):.4f}\")\n",
    "print(f\"AE: {np.mean(lae):.4f}\")"
   ]
  },
  {
   "cell_type": "markdown",
   "metadata": {},
   "source": [
    "## Testing on MNIST"
   ]
  },
  {
   "cell_type": "code",
   "execution_count": null,
   "metadata": {},
   "outputs": [],
   "source": []
  }
 ],
 "metadata": {
  "kernelspec": {
   "display_name": "Python 3 (ipykernel)",
   "language": "python",
   "name": "python3"
  },
  "language_info": {
   "codemirror_mode": {
    "name": "ipython",
    "version": 3
   },
   "file_extension": ".py",
   "mimetype": "text/x-python",
   "name": "python",
   "nbconvert_exporter": "python",
   "pygments_lexer": "ipython3",
   "version": "3.7.8"
  }
 },
 "nbformat": 4,
 "nbformat_minor": 2
}
