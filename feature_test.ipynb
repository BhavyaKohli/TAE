{
 "cells": [
  {
   "cell_type": "code",
   "execution_count": 1,
   "metadata": {},
   "outputs": [
    {
     "name": "stdout",
     "output_type": "stream",
     "text": [
      "Importing all assests from base.py...\n",
      "Imported modules   : numpy, pandas, matplotlib.pyplot\n",
      "Imported functions : npy, axes_off, get_var_name, shapes, tqdm, plot_history, minmax, values\n"
     ]
    }
   ],
   "source": [
    "import torch\n",
    "import torch.nn as nn\n",
    "import numpy as np\n",
    "\n",
    "import matplotlib.pyplot as plt\n",
    "from collections import Counter\n",
    "\n",
    "from base import *"
   ]
  },
  {
   "attachments": {},
   "cell_type": "markdown",
   "metadata": {},
   "source": [
    "# Testing different AE types (Linear and Convolutional)"
   ]
  },
  {
   "cell_type": "code",
   "execution_count": 2,
   "metadata": {},
   "outputs": [],
   "source": [
    "from code.models import GroupedModel, BaseAutoencoder\n",
    "from functools import partial # for creating different kinds of autoencoders"
   ]
  },
  {
   "attachments": {},
   "cell_type": "markdown",
   "metadata": {},
   "source": [
    "## Linear AE"
   ]
  },
  {
   "cell_type": "code",
   "execution_count": 3,
   "metadata": {},
   "outputs": [
    {
     "name": "stdout",
     "output_type": "stream",
     "text": [
      "Expected: (batch, 1), (batch, 5)\n",
      "embed  : torch.Size([64, 1])\n",
      "out    : torch.Size([64, 5])\n",
      "\n",
      "Expected: (batch, 2, 1), (batch, 2, 5)\n",
      "embed  : torch.Size([64, 2, 1])\n",
      "out    : torch.Size([64, 2, 5])\n",
      "\n",
      "Expected: (batch, 1), (batch, 5)\n",
      "embed  : torch.Size([64, 1])\n",
      "out    : torch.Size([64, 5])\n"
     ]
    }
   ],
   "source": [
    "# sanity check: inputs of shape 5 (1d), Linear-AE follows 5->2->1->2->5 (1 = embed_dim)\n",
    "\n",
    "testconfig_linear = {\n",
    "    'enc_channels': (5,2,1),\n",
    "    'dec_channels': (1,2,5), \n",
    "    'bias': False, \n",
    "    'activations': nn.ReLU(),\n",
    "    'device': 'cuda'\n",
    "}\n",
    "\n",
    "test_n_clusters = 2\n",
    "\n",
    "LinearAutoencoder = partial(BaseAutoencoder, layer_type=nn.Linear)\n",
    "\n",
    "ae = LinearAutoencoder(**testconfig_linear)\n",
    "gae = GroupedModel(test_n_clusters, LinearAutoencoder, **testconfig_linear)\n",
    "\n",
    "dummy_input = torch.randn(64, 5)        # 64 is the dummy batch size\n",
    "dummy_true = torch.randn(64, 5) \n",
    "dummy_centers = torch.randn(test_n_clusters, 5)\n",
    "\n",
    "print(f\"Expected: (batch, {ae.enc_channels[-1]}), (batch, 5)\")\n",
    "embed, out = ae(x=dummy_input, return_embed=True)\n",
    "shapes(embed, out)\n",
    "\n",
    "print(f\"\\nExpected: (batch, {test_n_clusters}, {ae.enc_channels[-1]}), (batch, {test_n_clusters}, 5)\")\n",
    "embed, out = gae.forward_with_centers(x=dummy_input, centers=dummy_centers, return_embed=True)\n",
    "shapes(embed, out)\n",
    "\n",
    "print(f\"\\nExpected: (batch, {ae.enc_channels[-1]}), (batch, 5)\")\n",
    "embed, out = gae.forward_with_clust(x=dummy_input, centers=dummy_centers, clust=0, return_embed=True)\n",
    "shapes(embed, out)"
   ]
  },
  {
   "attachments": {},
   "cell_type": "markdown",
   "metadata": {},
   "source": [
    "## Convolutional AE"
   ]
  },
  {
   "cell_type": "code",
   "execution_count": 4,
   "metadata": {},
   "outputs": [
    {
     "name": "stdout",
     "output_type": "stream",
     "text": [
      "Expected: (batch, 20, 32, 32), (batch, 3, 32, 32)\n",
      "embed  : torch.Size([64, 20, 32, 32])\n",
      "out    : torch.Size([64, 3, 32, 32])\n",
      "\n",
      "Expected: (batch, 2, 20, 32, 32), (batch, 2, 3, 32, 32)\n",
      "embed  : torch.Size([64, 2, 20, 32, 32])\n",
      "out    : torch.Size([64, 2, 3, 32, 32])\n",
      "\n",
      "Expected: (batch, 20, 32, 32), (batch, 3, 32, 32)\n",
      "embed  : torch.Size([64, 20, 32, 32])\n",
      "out    : torch.Size([64, 3, 32, 32])\n"
     ]
    }
   ],
   "source": [
    "# sanity check: inputs of shape (3,32,32), CNN-AE follows 3->10->20->10->3 (channels)\n",
    "\n",
    "testconfig_conv = {\n",
    "    'enc_channels': (3,10,20),\n",
    "    'dec_channels': (20,10,3), \n",
    "    'kernel_size': 3, \n",
    "    'activations': nn.ReLU(),\n",
    "    'device': 'cuda',\n",
    "    'padding': 1\n",
    "}\n",
    "\n",
    "test_n_clusters = 2\n",
    "\n",
    "CNNAutoencoder = partial(BaseAutoencoder, layer_type=nn.Conv2d)\n",
    "\n",
    "ae = CNNAutoencoder(**testconfig_conv)\n",
    "gae = GroupedModel(test_n_clusters, CNNAutoencoder, **testconfig_conv)\n",
    "\n",
    "dummy_input_conv = torch.randn(64,3,32,32)\n",
    "dummy_true_conv = torch.randn(64,3,32,32) \n",
    "dummy_centers_conv = torch.randn(test_n_clusters,3,32,32)\n",
    "\n",
    "print(f\"Expected: (batch, {ae.enc_channels[-1]}, 32, 32), (batch, 3, 32, 32)\")\n",
    "embed, out = ae(x=dummy_input_conv, return_embed=True)\n",
    "shapes(embed, out)\n",
    "\n",
    "print(f\"\\nExpected: (batch, {test_n_clusters}, {ae.enc_channels[-1]}, 32, 32), (batch, {test_n_clusters}, 3, 32, 32)\")\n",
    "embed, out = gae.forward_with_centers(x=dummy_input_conv, centers=dummy_centers_conv, return_embed=True)\n",
    "shapes(embed, out)\n",
    "\n",
    "print(f\"\\nExpected: (batch, {ae.enc_channels[-1]}, 32, 32), (batch, 3, 32, 32)\")\n",
    "embed, out = gae.forward_with_clust(x=dummy_input_conv, centers=dummy_centers_conv, clust=0, return_embed=True)\n",
    "shapes(embed, out)"
   ]
  },
  {
   "attachments": {},
   "cell_type": "markdown",
   "metadata": {},
   "source": [
    "# TAE Working test"
   ]
  },
  {
   "cell_type": "code",
   "execution_count": 5,
   "metadata": {},
   "outputs": [],
   "source": [
    "from code.tae import TensorizedAutoencoder, to_npy\n",
    "from code.train_utils import train_tae"
   ]
  },
  {
   "cell_type": "code",
   "execution_count": 7,
   "metadata": {},
   "outputs": [
    {
     "name": "stdout",
     "output_type": "stream",
     "text": [
      "PHASE 1: Warmup — 10/50\n"
     ]
    },
    {
     "name": "stderr",
     "output_type": "stream",
     "text": [
      "Epoch: 10/10 |████████████████████████████████| [00:04<00:00, loss: 0.9105]\n"
     ]
    },
    {
     "name": "stdout",
     "output_type": "stream",
     "text": [
      "PHASE 2: Batched — 40/50\n"
     ]
    },
    {
     "name": "stderr",
     "output_type": "stream",
     "text": [
      "Epoch: 40/40 |█████████████████████████| [00:00<00:00, loss: 0.8813, es: 1]\n",
      "Epoch: 40/40 |█████████████████████████| [00:00<00:00, loss: 0.9561, es: 0]\n"
     ]
    }
   ],
   "source": [
    "# train_tae working test for 1d data (N,5)\n",
    "\n",
    "ae = LinearAutoencoder(**testconfig_linear)\n",
    "gae = GroupedModel(test_n_clusters, LinearAutoencoder, **testconfig_linear)\n",
    "\n",
    "tae = TensorizedAutoencoder(gae, dummy_true)\n",
    "warmup, batched, clusts = train_tae(tae, dummy_input, dummy_true, 50, 5e-3, 8, warmup_optim=torch.optim.SGD, warmup=10, verbose=1, grad_clip=1)"
   ]
  },
  {
   "cell_type": "code",
   "execution_count": 8,
   "metadata": {},
   "outputs": [
    {
     "name": "stdout",
     "output_type": "stream",
     "text": [
      "PHASE 1: Warmup — 10/50\n"
     ]
    },
    {
     "name": "stderr",
     "output_type": "stream",
     "text": [
      "Epoch: 10/10 |████████████████████████████████| [00:06<00:00, loss: 0.9958]\n"
     ]
    },
    {
     "name": "stdout",
     "output_type": "stream",
     "text": [
      "PHASE 2: Batched — 40/50\n"
     ]
    },
    {
     "name": "stderr",
     "output_type": "stream",
     "text": [
      "Epoch: 40/40 |█████████████████████████| [00:01<00:00, loss: 0.9933, es: 0]\n",
      "Epoch: 40/40 |█████████████████████████| [00:01<00:00, loss: 0.9592, es: 0]\n"
     ]
    }
   ],
   "source": [
    "# train_tae working test for image data (N,3,32,32)\n",
    "\n",
    "ae = CNNAutoencoder(**testconfig_conv)\n",
    "gae = GroupedModel(test_n_clusters, CNNAutoencoder, **testconfig_conv)\n",
    "\n",
    "tae = TensorizedAutoencoder(gae, dummy_true_conv)\n",
    "warmup, batched, clusts = train_tae(tae, dummy_input_conv, dummy_true_conv, 50, 5e-3, 8, warmup=0.2, warmup_optim=torch.optim.SGD, warmup_lr=5e-2, verbose=1, grad_clip=0.5)"
   ]
  },
  {
   "attachments": {},
   "cell_type": "markdown",
   "metadata": {},
   "source": [
    "# Testing TAE clustering performance on synthetic datasets"
   ]
  },
  {
   "cell_type": "code",
   "execution_count": 10,
   "metadata": {},
   "outputs": [],
   "source": [
    "from data.data import parallel_line, orthogonal, triangle, lines_3D\n",
    "from sklearn.metrics.cluster import adjusted_rand_score as ari\n",
    "from sklearn.metrics import mean_squared_error as mse\n",
    "from sklearn.cluster import KMeans\n",
    "from code.train_utils import GenericDataset, train_ae\n",
    "\n",
    "\n",
    "X, Y, X_noise, n_clusters = parallel_line(noise=0.1)\n",
    "randperm = torch.randperm(len(X))\n",
    "X, Y, X_noise = X[randperm].float(), Y[randperm].float(), X_noise[randperm].float()"
   ]
  },
  {
   "cell_type": "code",
   "execution_count": 11,
   "metadata": {},
   "outputs": [],
   "source": [
    "config = {\n",
    "    'enc_channels': (5,2),\n",
    "    'dec_channels': (2,5), \n",
    "    'bias': False, \n",
    "    'activations': None     # data is a set of points and is relatively simple, no activations needed\n",
    "}"
   ]
  },
  {
   "cell_type": "code",
   "execution_count": 12,
   "metadata": {},
   "outputs": [
    {
     "name": "stderr",
     "output_type": "stream",
     "text": [
      "Epoch: 50/50 |█████████████████████████| [00:00<00:00, loss: 0.0060, es: 0]\n"
     ]
    }
   ],
   "source": [
    "ae = LinearAutoencoder(**config)\n",
    "optimizer = torch.optim.Adam(ae.parameters(), 5e-3)\n",
    "dataloader = GenericDataset(X, X).get_dataloader(batch_size=8, shuffle=False)\n",
    "\n",
    "ae, losses = train_ae(ae, dataloader, optimizer, 50, verbose=1)"
   ]
  },
  {
   "cell_type": "code",
   "execution_count": 13,
   "metadata": {},
   "outputs": [
    {
     "data": {
      "text/plain": [
       "0.06502463764112751"
      ]
     },
     "execution_count": 13,
     "metadata": {},
     "output_type": "execute_result"
    }
   ],
   "source": [
    "# ari after AE\n",
    "ari(KMeans(n_clusters, n_init='auto').fit(to_npy(ae.enc(X.float()))).labels_,Y)"
   ]
  },
  {
   "cell_type": "code",
   "execution_count": 16,
   "metadata": {},
   "outputs": [
    {
     "name": "stdout",
     "output_type": "stream",
     "text": [
      "PHASE 1: Warmup — 20/50\n"
     ]
    },
    {
     "name": "stderr",
     "output_type": "stream",
     "text": [
      "Epoch: 20/20 |████████████████████████████████| [00:04<00:00, loss: 0.8308]\n"
     ]
    },
    {
     "name": "stdout",
     "output_type": "stream",
     "text": [
      "PHASE 2: Batched — 30/50\n"
     ]
    },
    {
     "name": "stderr",
     "output_type": "stream",
     "text": [
      "Epoch: 30/30 |█████████████████████████| [00:00<00:00, loss: 0.0132, es: 0]\n",
      "Epoch: 30/30 |█████████████████████████| [00:00<00:00, loss: 0.0160, es: 0]\n"
     ]
    }
   ],
   "source": [
    "gae = GroupedModel(n_clusters, LinearAutoencoder, **config)\n",
    "tae = TensorizedAutoencoder(gae, X)\n",
    "\n",
    "warmup_losses, losses, clusts = train_tae(\n",
    "    tae, X.float(), X.float(), \n",
    "    epochs=50, \n",
    "    lr=5e-3, batch_size=8, \n",
    "    warmup=0.4, warmup_optim=torch.optim.SGD, warmup_lr=5e-2, \n",
    "    verbose=1, grad_clip=0.5\n",
    ")"
   ]
  },
  {
   "cell_type": "code",
   "execution_count": 17,
   "metadata": {},
   "outputs": [
    {
     "data": {
      "text/plain": [
       "1.0"
      ]
     },
     "execution_count": 17,
     "metadata": {},
     "output_type": "execute_result"
    }
   ],
   "source": [
    "# ari after TAE\n",
    "ari(clusts, Y)"
   ]
  },
  {
   "attachments": {},
   "cell_type": "markdown",
   "metadata": {},
   "source": [
    "# Working with reconstruction mse"
   ]
  },
  {
   "cell_type": "code",
   "execution_count": 18,
   "metadata": {},
   "outputs": [
    {
     "name": "stderr",
     "output_type": "stream",
     "text": [
      "Epoch: 50/50 |█████████████████████████| [00:00<00:00, loss: 0.0059, es: 0]\n"
     ]
    },
    {
     "name": "stdout",
     "output_type": "stream",
     "text": [
      "PHASE 1: Warmup — 15/150\n"
     ]
    },
    {
     "name": "stderr",
     "output_type": "stream",
     "text": [
      "Epoch: 15/15 |████████████████████████████████| [00:03<00:00, loss: 1.0196]\n"
     ]
    },
    {
     "name": "stdout",
     "output_type": "stream",
     "text": [
      "PHASE 2: Batched — 135/150\n"
     ]
    },
    {
     "name": "stderr",
     "output_type": "stream",
     "text": [
      "Epoch: 135/135 |███████████████████████| [00:00<00:00, loss: 0.0055, es: 1]\n",
      "Epoch: 135/135 |███████████████████████| [00:01<00:00, loss: 0.0060, es: 1]\n"
     ]
    },
    {
     "name": "stdout",
     "output_type": "stream",
     "text": [
      "TAE: 0.0061\n",
      "AE: 0.0058\n"
     ]
    }
   ],
   "source": [
    "num_runs = 1\n",
    "verbose = 1\n",
    "\n",
    "config = {\n",
    "    'enc_channels': (5,2),\n",
    "    'dec_channels': (2,5), \n",
    "    'bias': False, \n",
    "    'activations': None\n",
    "}\n",
    "\n",
    "lae, ltae, lkm = [], [], []\n",
    "for run in tqdm(range(num_runs), disable=verbose):\n",
    "    # kmeans_ari = ari(KMeans(n_clusters).fit(to_npy(X)).labels_,Y)\n",
    "    \n",
    "    ae = LinearAutoencoder(**config)\n",
    "    optimizer = torch.optim.Adam(ae.parameters(), 5e-3)\n",
    "    dataloader = GenericDataset(X, X).get_dataloader(batch_size=8, shuffle=False)\n",
    "\n",
    "    ae, ae_losses = train_ae(ae, dataloader, optimizer, 50, verbose=verbose)\n",
    "    # ae_ari = ari(KMeans(n_clusters).fit(to_npy(ae.enc(X.float()))).labels_,Y)\n",
    "\n",
    "    ae_mse = mse(to_npy(ae(X)), X)\n",
    "\n",
    "    gae = GroupedModel(n_clusters, LinearAutoencoder, **config)\n",
    "    tae = TensorizedAutoencoder(gae, X, regularizer_coef=0.1)\n",
    "\n",
    "    warmup_losses, tae_losses, clusts = train_tae(tae, X.float(), X.float(), 150, lr=5e-3, batch_size=16, warmup=15, warmup_optim=torch.optim.SGD, warmup_lr=5e-2, verbose=verbose, grad_clip=0.5)\n",
    "    # tae_ari = ari(clusts, Y)\n",
    "\n",
    "    tae_mse = np.zeros(X.shape)\n",
    "    for i in range(len(X)):\n",
    "        tae_mse[i] = to_npy(tae.forward_with_clust(X[i:i+1], clusts[i:i+1]) + tae.centers[clusts[i]])\n",
    "\n",
    "    tae_mse = mse(tae_mse, X)\n",
    "\n",
    "    lae.append(ae_mse); ltae.append(tae_mse)\n",
    "\n",
    "print(f\"TAE: {np.mean(ltae):.4f}\")\n",
    "print(f\"AE: {np.mean(lae):.4f}\")"
   ]
  },
  {
   "attachments": {},
   "cell_type": "markdown",
   "metadata": {},
   "source": [
    "## Testing on MNIST"
   ]
  },
  {
   "cell_type": "code",
   "execution_count": null,
   "metadata": {},
   "outputs": [],
   "source": []
  }
 ],
 "metadata": {
  "kernelspec": {
   "display_name": "Python 3",
   "language": "python",
   "name": "python3"
  },
  "language_info": {
   "codemirror_mode": {
    "name": "ipython",
    "version": 3
   },
   "file_extension": ".py",
   "mimetype": "text/x-python",
   "name": "python",
   "nbconvert_exporter": "python",
   "pygments_lexer": "ipython3",
   "version": "3.8.6"
  },
  "orig_nbformat": 4
 },
 "nbformat": 4,
 "nbformat_minor": 2
}
