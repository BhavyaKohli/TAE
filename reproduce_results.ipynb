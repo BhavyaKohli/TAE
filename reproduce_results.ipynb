{
 "cells": [
  {
   "cell_type": "markdown",
   "id": "260c5c42",
   "metadata": {},
   "source": [
    "# Import libraries"
   ]
  },
  {
   "cell_type": "code",
   "execution_count": 1,
   "id": "7b47657f",
   "metadata": {
    "ExecuteTime": {
     "end_time": "2022-10-20T10:51:14.384475Z",
     "start_time": "2022-10-20T10:51:14.372477Z"
    }
   },
   "outputs": [],
   "source": [
    "import numpy as np\n",
    "import torch\n",
    "torch.inf = np.inf\n",
    "\n",
    "import matplotlib.pyplot as plt\n",
    "from sklearn.cluster import KMeans\n",
    "from sklearn.metrics.cluster import adjusted_rand_score\n",
    "\n",
    "from data.data import parallel_line, orthogonal, triangle, lines_3D, real_data_loader, add_noise_data\n",
    "from models import Autoencoder\n",
    "from train2 import train_AE, train_TAE"
   ]
  },
  {
   "cell_type": "code",
   "execution_count": 2,
   "id": "fabbb318",
   "metadata": {
    "ExecuteTime": {
     "end_time": "2022-10-20T10:45:00.245192Z",
     "start_time": "2022-10-20T10:45:00.243254Z"
    }
   },
   "outputs": [
    {
     "data": {
      "text/plain": [
       "'cuda:0'"
      ]
     },
     "execution_count": 2,
     "metadata": {},
     "output_type": "execute_result"
    }
   ],
   "source": [
    "device = 'cuda:0' if torch.cuda.is_available() else 'cpu'\n",
    "device"
   ]
  },
  {
   "cell_type": "markdown",
   "id": "d7114d58",
   "metadata": {},
   "source": [
    "# Toy data "
   ]
  },
  {
   "cell_type": "markdown",
   "id": "a2813bd1",
   "metadata": {},
   "source": [
    "## Visualize\n",
    "use `parallel_line`, `orthogonal`, `triangle`, `lines_3D` for different toy datasets"
   ]
  },
  {
   "cell_type": "code",
   "execution_count": 3,
   "id": "cd2ee446",
   "metadata": {
    "ExecuteTime": {
     "end_time": "2022-10-20T09:47:43.747548Z",
     "start_time": "2022-10-20T09:47:43.618199Z"
    }
   },
   "outputs": [
    {
     "data": {
      "image/png": "[encoded data removed]",
      "text/plain": [
       "<Figure size 432x288 with 1 Axes>"
      ]
     },
     "metadata": {
      "needs_background": "light"
     },
     "output_type": "display_data"
    }
   ],
   "source": [
    "# change parallel_lines to orthogonal, triangle, lines_3D for other toy datasets\n",
    "X,Y, X_noise, n_clusters = triangle(noise=0.1)\n",
    "\n",
    "color= ['red' if l == 0 else 'blue' if l == 1 else 'green' for l in Y.cpu().detach().numpy()]\n",
    "plt.scatter(X_noise[:,0],X_noise[:,1], color = color)\n",
    "plt.title('true dataset');plt.axis('image')\n",
    "plt.show()"
   ]
  },
  {
   "cell_type": "markdown",
   "id": "c1c11dd1",
   "metadata": {},
   "source": [
    "## Clustering\n",
    "Use linear Autoencoder since the underlying structures are linear.\n",
    "* Hyperparameters in the setting include <br>\n",
    "`cnn = False` -- set to True for mnist and fashion <br>\n",
    "`epochs = 200` -- change for testing <br>\n",
    "`lr` -- learning rate in `train_AE` and `train_TAE` <br>\n",
    "`reg` -- regularisation strength in `train_TAE`\n",
    "\n",
    "* Set `repetition` to number of times the experiment to be repeated\n",
    "\n",
    "**`kmeans_ari`, `ae_ari`, `tae_ari` are the lists of ari scores for the datasets ran for `repetition` number of times**"
   ]
  },
  {
   "cell_type": "code",
   "execution_count": 4,
   "id": "bc2f3054",
   "metadata": {},
   "outputs": [],
   "source": [
    "import warnings\n",
    "warnings.filterwarnings(\"ignore\", category=UserWarning, module=\"torch\")"
   ]
  },
  {
   "cell_type": "code",
   "execution_count": 5,
   "id": "4315c532",
   "metadata": {
    "ExecuteTime": {
     "end_time": "2022-10-20T09:57:16.778048Z",
     "start_time": "2022-10-20T09:55:12.896332Z"
    }
   },
   "outputs": [
    {
     "name": "stdout",
     "output_type": "stream",
     "text": [
      "Dataset 1\n",
      "Iteration 1\n"
     ]
    },
    {
     "name": "stderr",
     "output_type": "stream",
     "text": [
      "Epoch: 50|50: 100%|███████████| 50/50 [00:11<00:00,  4.26it/s, loss 1.4207]\n",
      "Epoch: 50|50: 100%|███████████| 50/50 [00:25<00:00,  1.98it/s, loss 1.2811]\n"
     ]
    },
    {
     "name": "stdout",
     "output_type": "stream",
     "text": [
      "Dataset 2\n",
      "Iteration 1\n"
     ]
    },
    {
     "name": "stderr",
     "output_type": "stream",
     "text": [
      "Epoch: 50|50: 100%|███████████| 50/50 [00:11<00:00,  4.21it/s, loss 1.1104]\n",
      "Epoch: 50|50: 100%|███████████| 50/50 [00:27<00:00,  1.82it/s, loss 1.1717]\n"
     ]
    }
   ],
   "source": [
    "# kmeans_ari, ae_ari, tae_ari gives the ari of respective algorithms\n",
    "# hyperparameters: repetition, epochs, lr, reg,  \n",
    "repetition = 1\n",
    "epochs = 50\n",
    "\n",
    "np.random.seed(1)\n",
    "ae_ari = []\n",
    "tae_ari = []\n",
    "kmeans_ari = []\n",
    "ae_err = []\n",
    "tae_err = []\n",
    "\n",
    "dataset = 0\n",
    "for (data_generation, lr) in [(parallel_line(noise=0), 0.01), \n",
    "                              (orthogonal(noise=0), 0.01), \n",
    "                              (triangle(noise=0),0.1), \n",
    "                              (lines_3D(noise=0),0.1)][:2]:\n",
    "    dataset += 1\n",
    "    print(f\"Dataset {dataset}\")\n",
    "    ae = []\n",
    "    tae = []\n",
    "    kmeans_ = []\n",
    "    ae_e = []\n",
    "    tae_e = []\n",
    "    for rep in range(repetition):\n",
    "        print(f\"Iteration {rep+1}\")\n",
    "\n",
    "        np.random.seed(rep)\n",
    "\n",
    "        X,Y,X_noise,n_clusters = data_generation\n",
    "        x_idx = torch.tensor(np.arange(X.shape[0]))\n",
    "        shuffle_idx = torch.randperm(x_idx.shape[0])\n",
    "        x_idx = x_idx[shuffle_idx].long()\n",
    "        X = X[x_idx].clone().float().to(device)\n",
    "        Y = Y[x_idx].clone()\n",
    "        # X = torch.tensor(X[x_idx], dtype=torch.float).to(device)\n",
    "        # Y = torch.tensor(Y[x_idx])\n",
    "        \n",
    "        # k means\n",
    "        k = KMeans(n_clusters=n_clusters, random_state=rep).fit(X.cpu().detach().numpy())\n",
    "        k_ari = adjusted_rand_score(k.labels_, Y)\n",
    "        kmeans_.append(k_ari)\n",
    "        \n",
    "        # Standard AE\n",
    "        net = Autoencoder(in_feature=X.shape[1],embed=1)\n",
    "        ae_l = train_AE(net, X, X, lr=0.01,epochs=epochs,verbose=1)\n",
    "        ae_e.append(ae_l[-1])\n",
    "        \n",
    "        X_embed = net.enc1(X).cpu().detach().numpy()\n",
    "        kmeans = KMeans(n_clusters=n_clusters, random_state=0).fit(X_embed)\n",
    "        AE_clust_assign = kmeans.labels_\n",
    "        ari = adjusted_rand_score(AE_clust_assign, Y)\n",
    "        ae.append(ari)\n",
    "        \n",
    "        # Tensorized AE\n",
    "        tae_m, tae_l, TAE_clust_assign, _ = train_TAE(X.clone(), X.clone(), n_clusters=n_clusters, lr=lr, reg=0.1, embed=1, epochs=epochs,verbose=1)\n",
    "        tae_e.append(tae_l[-1])\n",
    "        ari = adjusted_rand_score(TAE_clust_assign.cpu().detach().numpy(), Y)\n",
    "        tae.append(ari)\n",
    "        \n",
    "    kmeans_ari.append(kmeans_)    \n",
    "    ae_ari.append(ae)\n",
    "    tae_ari.append(tae)\n",
    "    ae_err.append(ae_e)\n",
    "    tae_err.append(tae_e)\n",
    "    \n",
    "#consider only best 5 based on the loss\n",
    "kmeans_ari = np.sort(np.array(kmeans_ari))[::-1][:5].squeeze()\n",
    "ae_idx = np.argsort(np.array(ae_err))[:5].squeeze()\n",
    "ae_ari = np.array(ae_ari)[ae_idx].squeeze()\n",
    "tae_idx = np.argsort(np.array(tae_err))[:5].squeeze()\n",
    "tae_ari = np.array(tae_ari)[tae_idx].squeeze()"
   ]
  },
  {
   "cell_type": "code",
   "execution_count": 10,
   "id": "fd8a1865",
   "metadata": {},
   "outputs": [
    {
     "name": "stdout",
     "output_type": "stream",
     "text": [
      "[0.08000279 0.08000279] [0.33981078 0.33981078] [0.97333216 0.26564316]\n"
     ]
    }
   ],
   "source": [
    "print(tae_ari, ae_ari, kmeans_ari)"
   ]
  },
  {
   "cell_type": "markdown",
   "id": "dd94169b",
   "metadata": {},
   "source": [
    "## Denoising\n",
    "\n",
    "* Hyperparameters: <br>\n",
    "`noise=0.1` -- noise level to add to the original data <br>\n",
    "`epochs = 100` -- number of epochs <br>\n",
    "`linear_ae = False` -- linear or relu Autoencoder <br>\n",
    "`lr` -- learning rate in `train_AE` and `train_TAE` <br>\n",
    "`reg` -- regularisation strength in `train_TAE`\n",
    "* Set the following parameters accordingly <br>\n",
    "`repetition= 5` -- number of times to repeat the experiment\n",
    "`n_clusters = 3` -- length of `class_labels_list` in the `real_data_loader` function\n",
    "\n",
    "**`ae_loss`, `tae_loss` are the lists of mse errors for the datasets ran for `repetition` number of times**"
   ]
  },
  {
   "cell_type": "code",
   "execution_count": 7,
   "id": "0c6f00f2",
   "metadata": {
    "ExecuteTime": {
     "end_time": "2022-10-20T10:01:22.332980Z",
     "start_time": "2022-10-20T10:00:19.817558Z"
    }
   },
   "outputs": [
    {
     "name": "stdout",
     "output_type": "stream",
     "text": [
      "Dataset 1\n",
      "Iteration 1\n",
      "epoch  49  loss  1.4781457606330515\n",
      "epoch  99  loss  1.4784668265158931\n",
      "epoch  49  loss  0.11278917124960572\n",
      "epoch  99  loss  0.07993478318909183\n",
      "Dataset 2\n",
      "Iteration 1\n",
      "epoch  49  loss  1.0980033610854298\n",
      "epoch  99  loss  1.098002887661957\n",
      "epoch  49  loss  0.19484190337049465\n",
      "epoch  99  loss  0.10100703348095218\n",
      "Dataset 3\n",
      "Iteration 1\n",
      "epoch  49  loss  3.889700612503414\n",
      "epoch  99  loss  3.8897747323599954\n",
      "epoch  49  loss  0.21856595503399148\n",
      "epoch  99  loss  0.16404234138162185\n",
      "Dataset 4\n",
      "Iteration 1\n",
      "epoch  49  loss  0.8103261529266214\n",
      "epoch  99  loss  0.8104534785348612\n",
      "epoch  49  loss  0.05007408121755968\n",
      "epoch  99  loss  0.025107430698893343\n"
     ]
    }
   ],
   "source": [
    "# ae_loss and tae_loss has the mse of the data\n",
    "repetition = 1\n",
    "epochs = 100\n",
    "\n",
    "np.random.seed(1)\n",
    "ae_loss = []\n",
    "tae_loss = []\n",
    "dataset = 0\n",
    "for data_generation in [parallel_line(noise=0.1) , orthogonal(noise=0.1), triangle(noise=0.1), lines_3D(noise=0.1)]:\n",
    "    dataset += 1\n",
    "    print(f\"Dataset {dataset}\")\n",
    "    ae = []\n",
    "    tae = []\n",
    "    for rep in range(repetition):\n",
    "        print(f\"Iteration {rep+1}\")\n",
    "\n",
    "        np.random.seed(rep)\n",
    "\n",
    "        X,Y,X_noise,n_clusters = data_generation\n",
    "\n",
    "        # Standard AE\n",
    "        net = Autoencoder(in_feature=X.shape[1],embed=1)\n",
    "        ae_l = train_AE(net, X_noise, Y, lr=0.01,epochs=epochs,X_out=X)\n",
    "        ae.append(ae_l[-1])\n",
    "\n",
    "        # Tensorized AE\n",
    "        _, tae_l, _, _, _, _ = train_TAE(X_noise.clone(),Y.clone(), n_clusters=n_clusters, lr=0.1, reg=0.1, embed=1, epochs=epochs, X_out=X.clone() )\n",
    "        tae.append(tae_l[-1])\n",
    "    \n",
    "    ae_loss.append(ae)\n",
    "    tae_loss.append(tae)"
   ]
  },
  {
   "cell_type": "markdown",
   "id": "1f8659aa",
   "metadata": {},
   "source": [
    "# Real Data"
   ]
  },
  {
   "cell_type": "markdown",
   "id": "e7b0ff70",
   "metadata": {},
   "source": [
    "## Clustering\n",
    "* pass `real_data_loader` with the following arguments for different datasets: <br>\n",
    "penguin4:  `dataset='penguin4', class_labels_list=[0,1,2], normalise_data=True, subsample=False` <br>\n",
    "iris:     `dataset='iris', class_labels_list=[0,1,2], normalise_data=False, subsample=False` <br>\n",
    "mnist:    `dataset='mnist', class_labels_list=[0,1,2,3,4], num_samples=200, normalise_data=False, subsample=True` <br>\n",
    "fashion:  `dataset='fashion', class_labels_list=[0,1,2,3,4], num_samples=200, normalise_data=False, subsample=True` <br>\n",
    "    \n",
    "* Hyperparameters in the setting include <br>\n",
    "`cnn = False` -- set to True for mnist and fashion <br>\n",
    "`epochs = 200` -- change for testing <br>\n",
    "`linear = False` -- whether to use linear or relu Autoencoder <br>\n",
    "`lr` -- learning rate in `train_AE` and `train_TAE` <br>\n",
    "`reg` -- regularisation strength in `train_TAE`\n",
    "\n",
    "* Set `repetition` to number of times the experiment to be repeated\n",
    "\n",
    "**`kmeans_ari`, `ae_ari_1`, `ae_ari_2`, `tae_ari` are the lists of ari scores for the datasets ran for `repetition` number of times**"
   ]
  },
  {
   "cell_type": "code",
   "execution_count": 18,
   "id": "6c9f3b14",
   "metadata": {
    "ExecuteTime": {
     "end_time": "2022-10-20T10:49:30.645187Z",
     "start_time": "2022-10-20T10:48:14.393652Z"
    }
   },
   "outputs": [
    {
     "name": "stdout",
     "output_type": "stream",
     "text": [
      "torch.cuda.FloatTensor\n",
      "epoch  49  loss  0.010615310762746783\n",
      "epoch  99  loss  0.010615310553617464\n",
      "epoch  149  loss  0.010615310687460229\n",
      "epoch  199  loss  0.010615310750199024\n",
      "torch.cuda.FloatTensor\n",
      "epoch  49  loss  0.010651099377083119\n",
      "epoch  99  loss  0.010650321630716414\n",
      "epoch  149  loss  0.010649368399754167\n",
      "epoch  199  loss  0.010648178941888098\n",
      "epoch  49  loss  0.00247403455116632\n",
      "epoch  99  loss  0.002131419018205307\n",
      "epoch  149  loss  0.002000342559356708\n",
      "epoch  199  loss  0.001953371702730654\n"
     ]
    }
   ],
   "source": [
    "repetition = 1\n",
    "cnn = False\n",
    "epochs = 200\n",
    "linear = False\n",
    "\n",
    "kmeans_ari = []\n",
    "ae_ari_1 = []\n",
    "ae_ari_2 = []\n",
    "tae_ari = []\n",
    "\n",
    "for r in range(repetition):\n",
    "\n",
    "    ##################################\n",
    "    # penguin 4 Features\n",
    "    ##################################\n",
    "\n",
    "    # load data\n",
    "\n",
    "    X,Y = real_data_loader(dataset='penguin4', class_labels_list=[0,1,2], normalise_data=True, subsample=False)\n",
    "    n_clusters = 3\n",
    "\n",
    "    # k-means Benchmark\n",
    "    k = KMeans(n_clusters=n_clusters, random_state=r).fit(X)\n",
    "    kmeans_ari.append(adjusted_rand_score(k.labels_, Y.cpu().detach().numpy()))\n",
    "    \n",
    "    # simple AE embedding 1 \n",
    "    net = Autoencoder(in_feature=X.shape[1],embed=1,linear=linear).to(device)\n",
    "    train_loss = train_AE(net, X.float(),Y.float(), lr=0.001,epochs=epochs, CNN=cnn)\n",
    "\n",
    "    X_embed = net.enc1(X.float().to(device)).cpu().detach().numpy()\n",
    "    kmeans = KMeans(n_clusters=n_clusters, random_state=0).fit(X_embed)\n",
    "\n",
    "    ae_ari_1.append(adjusted_rand_score(kmeans.labels_, Y.cpu().detach().numpy()))\n",
    "    \n",
    "    # simple AE embedding 3\n",
    "    net = Autoencoder(in_feature=X.shape[1],embed=3,linear=linear).to(device)\n",
    "    train_loss = train_AE(net, X.float(),Y.float(), lr=0.001,epochs=epochs, CNN=cnn)\n",
    "\n",
    "    X_embed = net.enc1(X.float().to(device)).cpu().detach().numpy()\n",
    "    kmeans = KMeans(n_clusters=n_clusters, random_state=0).fit(X_embed)\n",
    "\n",
    "    ae_ari_2.append(adjusted_rand_score(kmeans.labels_, Y.cpu().detach().numpy()))\n",
    "    \n",
    "    # TAE\n",
    "\n",
    "    _, train_loss, clust_assign, _, Y_t, _ = train_TAE(X.float().clone(),Y.float().clone(), n_clusters= n_clusters , lr=0.01, reg=0.1, embed=1, linear=linear, epochs=epochs ,number_of_batches=1)\n",
    "\n",
    "    tae_ari.append(adjusted_rand_score(torch.argmax(clust_assign,axis=0).cpu().detach().numpy(), Y_t.cpu().detach().numpy()))\n",
    "    "
   ]
  },
  {
   "cell_type": "code",
   "execution_count": 19,
   "id": "2fbc70b4",
   "metadata": {
    "ExecuteTime": {
     "end_time": "2022-10-20T10:49:30.648306Z",
     "start_time": "2022-10-20T10:49:30.646267Z"
    }
   },
   "outputs": [
    {
     "name": "stdout",
     "output_type": "stream",
     "text": [
      "[0.19969729807824443] [0.19969729807824443] [0.6129439684022059]\n"
     ]
    }
   ],
   "source": [
    "print(ae_ari_1,ae_ari_2,tae_ari)"
   ]
  },
  {
   "cell_type": "markdown",
   "id": "803d95ff",
   "metadata": {},
   "source": [
    "## Denoising\n",
    "* `real_data_loader` : use the above arguments for different datasets \n",
    "* Hyperparameters: <br>\n",
    "`noise=0.1` -- noise level to add to the original data <br>\n",
    "`epochs = 100` -- number of epochs <br>\n",
    "`linear_ae = False` -- linear or relu Autoencoder <br>\n",
    "`lr` -- learning rate in `train_AE` and `train_TAE` <br>\n",
    "`reg` -- regularisation strength in `train_TAE`\n",
    "* Set the following parameters accordingly <br>\n",
    "`repetition= 5` -- number of times to repeat the experiment\n",
    "`n_clusters = 3` -- length of `class_labels_list` in the `real_data_loader` function\n",
    "\n",
    "**`ae_mse`, `tae_mse` are the lists of mse errors for the datasets ran for `repetition` number of times**"
   ]
  },
  {
   "cell_type": "code",
   "execution_count": 20,
   "id": "69b1cab8",
   "metadata": {
    "ExecuteTime": {
     "end_time": "2022-10-20T10:53:52.211304Z",
     "start_time": "2022-10-20T10:51:18.306748Z"
    }
   },
   "outputs": [
    {
     "name": "stdout",
     "output_type": "stream",
     "text": [
      "torch.cuda.FloatTensor\n",
      "epoch  49  loss  0.013090794243080218\n",
      "epoch  99  loss  0.01309079341736795\n",
      "epoch  49  loss  0.002546129627496598\n",
      "epoch  99  loss  0.0024431790537159043\n",
      "torch.cuda.FloatTensor\n",
      "epoch  49  loss  0.013090794557471296\n",
      "epoch  99  loss  0.01309079341736795\n",
      "epoch  49  loss  0.0025799256604977653\n",
      "epoch  99  loss  0.0024827146708538677\n",
      "torch.cuda.FloatTensor\n",
      "epoch  49  loss  0.013090794123527956\n",
      "epoch  99  loss  0.01309079463624334\n",
      "epoch  49  loss  0.0026162708874541427\n",
      "epoch  99  loss  0.002499219412189512\n",
      "torch.cuda.FloatTensor\n",
      "epoch  49  loss  0.013090794089718716\n",
      "epoch  99  loss  0.01309079341736795\n",
      "epoch  49  loss  0.002610447743235656\n",
      "epoch  99  loss  0.002482026755986847\n",
      "torch.cuda.FloatTensor\n",
      "epoch  49  loss  0.01309079325389853\n",
      "epoch  99  loss  0.01309079341736795\n",
      "epoch  49  loss  0.00264372405614202\n",
      "epoch  99  loss  0.0025026075396061844\n",
      "[0.01309079341736795, 0.01309079341736795, 0.01309079463624334, 0.01309079341736795, 0.01309079341736795] [0.0024431790537159043, 0.0024827146708538677, 0.002499219412189512, 0.002482026755986847, 0.0025026075396061844]\n"
     ]
    }
   ],
   "source": [
    "#give different dataset name = ['penguin4', 'penguin2', 'iris', 'mnist', 'fashion']\n",
    "X,Y = real_data_loader(dataset='penguin4', class_labels_list=[0,1,2], normalise_data=True, subsample=False)\n",
    "X_noise = add_noise_data(X, noise=0.1)\n",
    "\n",
    "repetition = 5\n",
    "n_clusters = 3\n",
    "epochs = 100\n",
    "linear_ae = False\n",
    "\n",
    "ae_mse = []\n",
    "tae_mse = []\n",
    "\n",
    "for i in range(repetition):\n",
    "    # simple AE embedding 1 \n",
    "    net = Autoencoder(in_feature=X.shape[1],embed=1, linear=linear_ae).to(device)\n",
    "    train_loss = train_AE(net, X_noise.float(),Y.float(), lr=0.001,epochs=epochs, X_out=X)\n",
    "    ae_mse.append(train_loss[-1])\n",
    "\n",
    "    # TAE\n",
    "    _, train_loss, _, _, _, _ = train_TAE(X_noise.float().clone(),Y.float().clone(), n_clusters= n_clusters , lr=0.01, reg=0.1, embed=1, epochs=epochs, linear=linear_ae ,number_of_batches=1, X_out=X.clone())\n",
    "    tae_mse.append(train_loss[-1])\n",
    "print(ae_mse, tae_mse)"
   ]
  },
  {
   "cell_type": "code",
   "execution_count": 3,
   "id": "e9e214fc",
   "metadata": {},
   "outputs": [],
   "source": [
    "#give different dataset name = ['penguin4', 'penguin2', 'iris', 'mnist', 'fashion']\n",
    "X,Y = real_data_loader(dataset='penguin4', class_labels_list=[0,1,2], normalise_data=True, subsample=False)\n",
    "X_noise = X.clone()\n",
    "\n",
    "for samp in X_noise:\n",
    "    if np.random.rand() > 0.5:\n",
    "        idx = np.random.randint(0,X.shape[1],size=2)\n",
    "        samp[idx] = 0\n",
    "\n",
    "repetition = 5\n",
    "n_clusters = 3\n",
    "epochs = 100\n",
    "linear_ae = False\n",
    "\n",
    "ae_mse = []\n",
    "tae_mse = []\n",
    "\n",
    "for i in range(repetition):\n",
    "    # simple AE embedding 1 \n",
    "    net = Autoencoder(in_feature=X.shape[1],embed=1, linear=linear_ae).to(device)\n",
    "    train_loss = train_AE(net, X_noise.float(),Y.float(), lr=0.001,epochs=epochs, X_out=X)\n",
    "    ae_mse.append(train_loss[-1])\n",
    "\n",
    "    # TAE\n",
    "    _, train_loss, _, _, _, _ = train_TAE(X_noise.float().clone(),Y.float().clone(), n_clusters= n_clusters , lr=0.01, reg=0.1, embed=1, epochs=epochs, linear=linear_ae ,number_of_batches=1, X_out=X.clone())\n",
    "    tae_mse.append(train_loss[-1])\n",
    "print(ae_mse, tae_mse)"
   ]
  },
  {
   "cell_type": "code",
   "execution_count": null,
   "id": "16ecd678",
   "metadata": {},
   "outputs": [],
   "source": []
  }
 ],
 "metadata": {
  "kernelspec": {
   "display_name": "Python 3.7.8 64-bit ('3.7.8')",
   "language": "python",
   "name": "python3"
  },
  "language_info": {
   "codemirror_mode": {
    "name": "ipython",
    "version": 3
   },
   "file_extension": ".py",
   "mimetype": "text/x-python",
   "name": "python",
   "nbconvert_exporter": "python",
   "pygments_lexer": "ipython3",
   "version": "3.7.8"
  },
  "toc": {
   "base_numbering": 1,
   "nav_menu": {},
   "number_sections": true,
   "sideBar": true,
   "skip_h1_title": false,
   "title_cell": "Table of Contents",
   "title_sidebar": "Contents",
   "toc_cell": false,
   "toc_position": {
    "height": "calc(100% - 180px)",
    "left": "10px",
    "top": "150px",
    "width": "288px"
   },
   "toc_section_display": true,
   "toc_window_display": true
  },
  "vscode": {
   "interpreter": {
    "hash": "b017594118ac99b5f427c0ae90fba14825388823942a8c6fc2c353b3b1713eba"
   }
  }
 },
 "nbformat": 4,
 "nbformat_minor": 5
}
