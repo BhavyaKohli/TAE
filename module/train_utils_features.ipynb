{
 "cells": [
  {
   "cell_type": "code",
   "execution_count": 1,
   "metadata": {},
   "outputs": [
    {
     "name": "stdout",
     "output_type": "stream",
     "text": [
      "cuda\n"
     ]
    }
   ],
   "source": [
    "from train_utils import *\n",
    "\n",
    "import sys\n",
    "sys.path.append(\"../\")\n",
    "\n",
    "from data import parallel_line, orthogonal, triangle, lines_3D\n",
    "from torch.utils.data import DataLoader\n",
    "\n",
    "print(device)"
   ]
  },
  {
   "cell_type": "code",
   "execution_count": 2,
   "metadata": {},
   "outputs": [],
   "source": [
    "X, Y, X_noise, n_clusters = parallel_line(noise=0.1)\n",
    "\n",
    "autoencoder = Autoencoder(in_features=X.shape[1], embed=2).to(device)\n",
    "dataset = DummyDataset(X_noise, X)\n",
    "dataloader = DataLoader(dataset, batch_size=8, shuffle=True)\n",
    "optimizer = torch.optim.Adam(autoencoder.parameters(), lr=0.01)"
   ]
  },
  {
   "cell_type": "code",
   "execution_count": 5,
   "metadata": {},
   "outputs": [
    {
     "name": "stderr",
     "output_type": "stream",
     "text": [
      "Epoch: 50/50 |█████████████████████████| [00:02<00:00, loss: 0.0096, es: 0]\n"
     ]
    }
   ],
   "source": [
    "autoencoder, losses = train_ae(autoencoder, dataloader, optimizer, epochs=50, verbose=1, pbar_ncols=75)"
   ]
  }
 ],
 "metadata": {
  "kernelspec": {
   "display_name": "Python 3",
   "language": "python",
   "name": "python3"
  },
  "language_info": {
   "codemirror_mode": {
    "name": "ipython",
    "version": 3
   },
   "file_extension": ".py",
   "mimetype": "text/x-python",
   "name": "python",
   "nbconvert_exporter": "python",
   "pygments_lexer": "ipython3",
   "version": "3.7.8"
  },
  "orig_nbformat": 4
 },
 "nbformat": 4,
 "nbformat_minor": 2
}
