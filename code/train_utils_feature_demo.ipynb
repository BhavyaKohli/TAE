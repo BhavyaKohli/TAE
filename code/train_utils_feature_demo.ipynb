{
 "cells": [
  {
   "cell_type": "code",
   "execution_count": 1,
   "metadata": {},
   "outputs": [
    {
     "name": "stdout",
     "output_type": "stream",
     "text": [
      "cpu\n"
     ]
    }
   ],
   "source": [
    "from train_utils import *\n",
    "\n",
    "import sys\n",
    "sys.path.append(\"../\")\n",
    "\n",
    "from data.data import parallel_line, orthogonal, triangle, lines_3D\n",
    "from torch.utils.data import DataLoader\n",
    "\n",
    "print(device)\n",
    "# device = 'cuda'"
   ]
  },
  {
   "cell_type": "code",
   "execution_count": 2,
   "metadata": {},
   "outputs": [],
   "source": [
    "X, Y, X_noise, n_clusters = parallel_line(noise=0.1)\n",
    "\n",
    "autoencoder = Autoencoder(in_features=X.shape[1], embed=2).to(device)\n",
    "dataset = GenericDataset(X_noise, X)\n",
    "dataloader = DataLoader(dataset, batch_size=8, shuffle=True)\n",
    "optimizer = torch.optim.Adam(autoencoder.parameters(), lr=0.01)"
   ]
  },
  {
   "cell_type": "code",
   "execution_count": 5,
   "metadata": {},
   "outputs": [
    {
     "data": {
      "text/plain": [
       "Autoencoder(\n",
       "  (enc): Linear(in_features=5, out_features=2, bias=False)\n",
       "  (dec): Linear(in_features=2, out_features=5, bias=False)\n",
       ")"
      ]
     },
     "execution_count": 5,
     "metadata": {},
     "output_type": "execute_result"
    }
   ],
   "source": [
    "autoencoder"
   ]
  },
  {
   "cell_type": "code",
   "execution_count": 3,
   "metadata": {},
   "outputs": [
    {
     "name": "stderr",
     "output_type": "stream",
     "text": [
      "Epoch: 50/50 |█████████████████████████| [00:00<00:00, loss: 0.0099, es: 0]\n"
     ]
    }
   ],
   "source": [
    "autoencoder, losses = train_ae(autoencoder, dataloader, optimizer, epochs=50, verbose=1, pbar_ncols=75)"
   ]
  },
  {
   "cell_type": "code",
   "execution_count": 4,
   "metadata": {},
   "outputs": [
    {
     "name": "stderr",
     "output_type": "stream",
     "text": [
      "100%|██████████| 100/100 [00:01<00:00, 63.94it/s]\n"
     ]
    }
   ],
   "source": [
    "import time\n",
    "for i in tqdm(range(100)):\n",
    "    time.sleep(0.001)"
   ]
  }
 ],
 "metadata": {
  "kernelspec": {
   "display_name": "Python 3",
   "language": "python",
   "name": "python3"
  },
  "language_info": {
   "codemirror_mode": {
    "name": "ipython",
    "version": 3
   },
   "file_extension": ".py",
   "mimetype": "text/x-python",
   "name": "python",
   "nbconvert_exporter": "python",
   "pygments_lexer": "ipython3",
   "version": "3.7.8"
  },
  "orig_nbformat": 4
 },
 "nbformat": 4,
 "nbformat_minor": 2
}
