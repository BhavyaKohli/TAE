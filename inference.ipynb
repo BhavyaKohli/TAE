{
 "cells": [
  {
   "cell_type": "code",
   "execution_count": 7,
   "metadata": {},
   "outputs": [
    {
     "name": "stdout",
     "output_type": "stream",
     "text": [
      "cuda:0\n"
     ]
    }
   ],
   "source": [
    "import numpy as np\n",
    "import torch\n",
    "torch.inf = np.inf\n",
    "\n",
    "import matplotlib.pyplot as plt\n",
    "from sklearn.cluster import KMeans\n",
    "from sklearn.metrics.cluster import adjusted_rand_score\n",
    "from sklearn.metrics import mean_squared_error as mse\n",
    "\n",
    "from data import parallel_line, orthogonal, triangle, lines_3D, real_data_loader, add_noise_data\n",
    "from models import Autoencoder, VAE\n",
    "from train2 import train_AE, train_TAE\n",
    "\n",
    "device = 'cuda:0' if torch.cuda.is_available() else 'cpu'\n",
    "print(device)\n",
    "\n",
    "import warnings\n",
    "warnings.filterwarnings(\"ignore\", category=UserWarning, module=\"torch\")\n",
    "\n",
    "from base import *"
   ]
  },
  {
   "cell_type": "code",
   "execution_count": 3,
   "metadata": {},
   "outputs": [
    {
     "name": "stdout",
     "output_type": "stream",
     "text": [
      "X        : torch.Size([150, 5])\n",
      "Y        : torch.Size([150])\n",
      "X_noise  : torch.Size([150, 5])\n"
     ]
    }
   ],
   "source": [
    "X, Y, X_noise, n_clusters = parallel_line(noise=0.1)\n",
    "shapes(X,Y,X_noise)\n",
    "\n",
    "shuffle_idx = torch.randperm(X.shape[0])\n",
    "X = X[shuffle_idx].float().to(device)\n",
    "Y = Y[shuffle_idx].float()\n",
    "\n",
    "# color= ['red' if l == 0 else 'blue' if l == 1 else 'green' for l in Y.cpu().detach().numpy()]\n",
    "# plt.figure(figsize=(7,7));plt.axis('off')\n",
    "# plt.scatter(X_noise[:,0], X_noise[:,1], color=color)\n",
    "# plt.show()"
   ]
  },
  {
   "cell_type": "code",
   "execution_count": 4,
   "metadata": {},
   "outputs": [],
   "source": [
    "X_ = X.clone()\n",
    "for samp in X_:\n",
    "    if np.random.rand() > 0.5:\n",
    "        idx = np.random.randint(0,5,size=2)\n",
    "        samp[idx] = 0"
   ]
  },
  {
   "cell_type": "code",
   "execution_count": 8,
   "metadata": {},
   "outputs": [
    {
     "name": "stdout",
     "output_type": "stream",
     "text": [
      "Direct kmeans: 0.2656\n"
     ]
    },
    {
     "name": "stderr",
     "output_type": "stream",
     "text": [
      "Epoch: 100|100: 100%|███████| 100/100 [00:27<00:00,  3.69it/s, loss 1.0096]\n"
     ]
    },
    {
     "name": "stdout",
     "output_type": "stream",
     "text": [
      "Kmeans after AE: 0.3243\n",
      "Kmeans after TAE: 0.8955\n"
     ]
    }
   ],
   "source": [
    "# Clustering directly\n",
    "k = KMeans(n_clusters=n_clusters, random_state=0).fit(X.cpu().numpy()).labels_\n",
    "k_loss = adjusted_rand_score(k, Y)\n",
    "print(f\"Direct kmeans: {k_loss:.4f}\")\n",
    "\n",
    "# Standard AE\n",
    "autoencoder = Autoencoder(X.shape[1], embed=2)\n",
    "losses = train_AE(autoencoder, X=X_.clone(), X_out=X.clone(), epochs=100, verbose=1, lr=0.001)\n",
    "\n",
    "embed_x = autoencoder.enc1(X_).cpu().detach().numpy()\n",
    "kmeans = KMeans(n_clusters).fit(embed_x).labels_\n",
    "kmeans_loss = adjusted_rand_score(kmeans, Y)\n",
    "print(f\"Kmeans after AE: {kmeans_loss:.4f}\")\n",
    "\n",
    "tae, losses, clust_assign, centers = train_TAE(X=X_.clone(), X_out=X.clone(), n_clusters=n_clusters, reg=0.1, lr=0.1, embed=2, epochs=50, verbose=1)\n",
    "TAE_ari = adjusted_rand_score(clust_assign.cpu().numpy(), Y)\n",
    "print(f\"Kmeans after TAE: {TAE_ari:.4f}\")"
   ]
  },
  {
   "cell_type": "code",
   "execution_count": 12,
   "metadata": {},
   "outputs": [
    {
     "name": "stdout",
     "output_type": "stream",
     "text": [
      "AE reconstruction MSE  = 1.0041\n",
      "TAE reconstruction MSE = 0.4397\n"
     ]
    }
   ],
   "source": [
    "recon = autoencoder(X_).cpu().detach().numpy()\n",
    "recon_mse = mse(recon, X.cpu().numpy())\n",
    "print(f\"AE reconstruction MSE  = {recon_mse:.4f}\")\n",
    "\n",
    "taepred = np.zeros(X.shape)\n",
    "for i in range(len(X)):\n",
    "    ass = clust_assign[i]\n",
    "    taepred[i] = (tae.AE[ass](X_[i] - centers[ass]) + centers[ass]).cpu().detach().numpy().squeeze()\n",
    "\n",
    "recon_mse_tae = mse(taepred, X.cpu().numpy())\n",
    "print(f\"TAE reconstruction MSE = {recon_mse_tae:.4f}\")"
   ]
  },
  {
   "cell_type": "code",
   "execution_count": null,
   "metadata": {},
   "outputs": [],
   "source": []
  },
  {
   "cell_type": "code",
   "execution_count": null,
   "metadata": {},
   "outputs": [],
   "source": []
  },
  {
   "cell_type": "code",
   "execution_count": null,
   "metadata": {},
   "outputs": [],
   "source": []
  },
  {
   "attachments": {},
   "cell_type": "markdown",
   "metadata": {},
   "source": [
    "# Real data"
   ]
  },
  {
   "cell_type": "code",
   "execution_count": 4,
   "metadata": {},
   "outputs": [
    {
     "name": "stdout",
     "output_type": "stream",
     "text": [
      "X  : torch.Size([334, 4])\n",
      "Y  : torch.Size([334])\n"
     ]
    }
   ],
   "source": [
    "X, Y = real_data_loader(dataset='penguin4', class_labels_list=[0,1,2], normalise_data=True, subsample=False,)\n",
    "# X = X / 255.\n",
    "\n",
    "shapes(X, Y)"
   ]
  },
  {
   "cell_type": "code",
   "execution_count": 5,
   "metadata": {},
   "outputs": [
    {
     "name": "stdout",
     "output_type": "stream",
     "text": [
      "Direct kmeans: 0.5581\n"
     ]
    },
    {
     "name": "stderr",
     "output_type": "stream",
     "text": [
      "Epoch: 50|50: 100%|███████████| 50/50 [00:24<00:00,  2.00it/s, loss 0.0144]\n"
     ]
    },
    {
     "name": "stdout",
     "output_type": "stream",
     "text": [
      "Kmeans after AE: 0.1458\n"
     ]
    },
    {
     "name": "stderr",
     "output_type": "stream",
     "text": [
      "Epoch: 50|50: 100%|███████████| 50/50 [02:12<00:00,  2.66s/it, loss 0.0006]"
     ]
    },
    {
     "name": "stdout",
     "output_type": "stream",
     "text": [
      "Kmeans after TAE: 0.5528\n"
     ]
    },
    {
     "name": "stderr",
     "output_type": "stream",
     "text": [
      "\n"
     ]
    }
   ],
   "source": [
    "n_clusters = 5\n",
    "embed = 1\n",
    "reg = 0.1\n",
    "epochs = 50\n",
    "\n",
    "X = X.to(device)\n",
    "\n",
    "# Clustering directly\n",
    "k = KMeans(n_clusters=n_clusters, random_state=0).fit(X.cpu().numpy()).labels_\n",
    "k_loss = adjusted_rand_score(k, Y)\n",
    "print(f\"Direct kmeans: {k_loss:.4f}\")\n",
    "\n",
    "# Standard AE\n",
    "autoencoder = Autoencoder(X.shape[1], embed=embed)\n",
    "losses = train_AE(autoencoder, X.clone(), epochs=epochs, verbose=1)\n",
    "\n",
    "embed_x = autoencoder.enc1(X).cpu().detach().numpy()\n",
    "kmeans = KMeans(n_clusters).fit(embed_x).labels_\n",
    "kmeans_loss = adjusted_rand_score(kmeans, Y)\n",
    "print(f\"Kmeans after AE: {kmeans_loss:.4f}\")\n",
    "\n",
    "# TAE\n",
    "clust_assign = train_TAE(X.clone(), n_clusters=n_clusters, reg=reg, embed=embed, epochs=epochs, verbose=1)[2]\n",
    "TAE_ari = adjusted_rand_score(torch.argmax(clust_assign, axis=0).cpu().detach().numpy(), Y)\n",
    "print(f\"Kmeans after TAE: {TAE_ari:.4f}\")"
   ]
  },
  {
   "cell_type": "code",
   "execution_count": 43,
   "metadata": {},
   "outputs": [
    {
     "name": "stderr",
     "output_type": "stream",
     "text": [
      "100%|██████████| 50/50 [00:42<00:00,  1.19it/s]"
     ]
    },
    {
     "name": "stdout",
     "output_type": "stream",
     "text": [
      "epoch  49  loss  0.010619167005643249\n"
     ]
    },
    {
     "name": "stderr",
     "output_type": "stream",
     "text": [
      "\n"
     ]
    }
   ],
   "source": [
    "autoencoder = Autoencoder(in_feature=X.shape[1],embed=2,linear=True).to(device)\n",
    "train_loss = train_AE(autoencoder, X.float(), lr=0.001, epochs=50, CNN=False, verbose=1)"
   ]
  },
  {
   "cell_type": "code",
   "execution_count": null,
   "metadata": {},
   "outputs": [],
   "source": [
    "X_embed = net.enc1(X.float().to(device)).cpu().detach().numpy()\n",
    "kmeans = KMeans(n_clusters=3, random_state=0).fit(X_embed)\n",
    "adjusted_rand_score(kmeans.labels_, Y.cpu().detach().numpy())"
   ]
  },
  {
   "cell_type": "code",
   "execution_count": null,
   "metadata": {},
   "outputs": [],
   "source": [
    "TAE, train_loss, clust_assign, X_, X_out = train_TAE(X, n_clusters=5, reg=0.1, embed=169, epochs=50, verbose=1)"
   ]
  },
  {
   "cell_type": "code",
   "execution_count": 45,
   "metadata": {},
   "outputs": [
    {
     "data": {
      "text/plain": [
       "0.629550581111624"
      ]
     },
     "execution_count": 45,
     "metadata": {},
     "output_type": "execute_result"
    }
   ],
   "source": [
    "adjusted_rand_score(torch.argmax(clust_assign,axis=0).cpu().detach().numpy(), Y_.cpu().detach().numpy())"
   ]
  },
  {
   "cell_type": "code",
   "execution_count": 29,
   "metadata": {},
   "outputs": [
    {
     "name": "stdout",
     "output_type": "stream",
     "text": [
      "Kmeans after AE 0.41625843086495257\n",
      "X_embed  : (1000, 169)\n",
      "X_recon  : (1000, 784)\n"
     ]
    },
    {
     "data": {
      "image/png": "[encoded data removed]",
      "text/plain": [
       "<Figure size 720x504 with 15 Axes>"
      ]
     },
     "metadata": {
      "needs_background": "light"
     },
     "output_type": "display_data"
    }
   ],
   "source": [
    "# VISUALIZE MNIST EMBEDDING\n",
    "\n",
    "X_embed = autoencoder.enc1(X.float().to(device)).cpu().detach().numpy()\n",
    "kmeans = KMeans(n_clusters=5, random_state=0).fit(X_embed).labels_\n",
    "print(\"Kmeans after AE\", adjusted_rand_score(kmeans, Y))\n",
    "\n",
    "X_recon = autoencoder.dec1(torch.tensor(X_embed).float().to(device)).cpu().detach().numpy()\n",
    "shapes(X_embed,X_recon)\n",
    "\n",
    "axes = plt.subplots(3,5,figsize=(10,7))[1]\n",
    "samples = np.random.choice(np.arange(len(X)),size=5)\n",
    "axes_off(axes)\n",
    "\n",
    "for i in range(5):\n",
    "    s = samples[i]\n",
    "    axes[0,i].set_title(f\"Original {s}\")\n",
    "    axes[0,i].imshow(X[s].cpu().reshape(28,28),cmap=plt.cm.Greys)\n",
    "    axes[1,i].set_title(f\"Encoded {s}\")\n",
    "    axes[1,i].imshow(X_embed[s].reshape(13,13),cmap=plt.cm.Greys)\n",
    "    axes[2,i].set_title(f\"Decoded {s}\")\n",
    "    axes[2,i].imshow(X_recon[s].reshape(28,28),cmap=plt.cm.Greys)"
   ]
  }
 ],
 "metadata": {
  "kernelspec": {
   "display_name": "Python 3.7.8 64-bit ('3.7.8')",
   "language": "python",
   "name": "python3"
  },
  "language_info": {
   "codemirror_mode": {
    "name": "ipython",
    "version": 3
   },
   "file_extension": ".py",
   "mimetype": "text/x-python",
   "name": "python",
   "nbconvert_exporter": "python",
   "pygments_lexer": "ipython3",
   "version": "3.7.8"
  },
  "orig_nbformat": 4,
  "vscode": {
   "interpreter": {
    "hash": "b017594118ac99b5f427c0ae90fba14825388823942a8c6fc2c353b3b1713eba"
   }
  }
 },
 "nbformat": 4,
 "nbformat_minor": 2
}
